{
 "cells": [
  {
   "cell_type": "markdown",
   "metadata": {},
   "source": [
    "## Training a Custom MobileNet Model"
   ]
  },
  {
   "cell_type": "code",
   "execution_count": 1,
   "metadata": {},
   "outputs": [
    {
     "name": "stderr",
     "output_type": "stream",
     "text": [
      "Using TensorFlow backend.\n"
     ]
    }
   ],
   "source": [
    "import os\n",
    "\n",
    "import numpy as np\n",
    "\n",
    "import keras\n",
    "from keras.applications import mobilenet_v2, imagenet_utils\n",
    "from keras.layers import Dense, Dropout, Flatten, GlobalAveragePooling2D\n",
    "from keras.models import Sequential\n",
    "from keras.optimizers import SGD, RMSprop\n",
    "from keras.preprocessing.image import ImageDataGenerator\n",
    "\n",
    "import tensorflow"
   ]
  },
  {
   "cell_type": "code",
   "execution_count": 2,
   "metadata": {},
   "outputs": [],
   "source": [
    "np.random.seed(4096)\n",
    "tensorflow.set_random_seed(4096)"
   ]
  },
  {
   "cell_type": "code",
   "execution_count": 3,
   "metadata": {},
   "outputs": [],
   "source": [
    "IMAGE_W = 224\n",
    "IMAGE_H = 224\n",
    "\n",
    "INITIAL_LR = 0.0001\n",
    "EPOCHS = 5\n",
    "BATCH_SIZE = 32"
   ]
  },
  {
   "cell_type": "code",
   "execution_count": null,
   "metadata": {},
   "outputs": [],
   "source": [
    "image_generator = ImageDataGenerator(\n",
    "    validation_split=0.2,\n",
    "    preprocessing_function=mobilenet_v2.preprocess_input,\n",
    ")\n",
    "\n",
    "training_generator = image_generator.flow_from_directory(\n",
    "    'train_images',\n",
    "    target_size=(IMAGE_W, IMAGE_H),\n",
    "    batch_size=BATCH_SIZE,\n",
    "    class_mode=\"categorical\",\n",
    "    subset='training'\n",
    ")\n",
    "\n",
    "validation_generator = image_generator.flow_from_directory(\n",
    "    'train_images',\n",
    "    target_size=(IMAGE_W, IMAGE_H),\n",
    "    batch_size=BATCH_SIZE,\n",
    "    class_mode=\"categorical\",\n",
    "    subset='validation'\n",
    ")"
   ]
  },
  {
   "cell_type": "code",
   "execution_count": null,
   "metadata": {},
   "outputs": [],
   "source": [
    "mobilenet_model = mobilenet_v2.MobileNetV2(\n",
    "    weights=\"imagenet\",\n",
    "    include_top=False,\n",
    "    input_shape=(IMAGE_W,IMAGE_H,3)\n",
    ")\n",
    "\n",
    "mobilenet_model.trainable = False\n",
    "\n",
    "model = Sequential([\n",
    "    mobilenet_model,\n",
    "    GlobalAveragePooling2D(),\n",
    "#    Dense(1024, activation=\"relu\"),\n",
    "#    Dense(1024, activation=\"relu\"),\n",
    "    Dense(512, activation=\"relu\"),\n",
    "    Dense(training_generator.num_classes, activation=\"softmax\")\n",
    "])"
   ]
  },
  {
   "cell_type": "code",
   "execution_count": null,
   "metadata": {},
   "outputs": [],
   "source": [
    "model.summary()"
   ]
  },
  {
   "cell_type": "code",
   "execution_count": null,
   "metadata": {},
   "outputs": [],
   "source": [
    "model.compile(\n",
    "    loss=\"categorical_crossentropy\",\n",
    "    optimizer = RMSprop(lr=INITIAL_LR, decay=INITIAL_LR/EPOCHS),\n",
    "    metrics=[\"accuracy\"]\n",
    ")\n",
    "\n",
    "H = model.fit_generator(\n",
    "    training_generator,\n",
    "    validation_data=validation_generator,\n",
    "    steps_per_epoch=training_generator.samples / training_generator.batch_size,\n",
    "    validation_steps=validation_generator.samples / validation_generator.batch_size,\n",
    "    epochs=EPOCHS\n",
    ")\n",
    "\n",
    "model.save('classifier.h5')"
   ]
  },
  {
   "cell_type": "markdown",
   "metadata": {},
   "source": [
    "## Evaluate Performance"
   ]
  },
  {
   "cell_type": "code",
   "execution_count": null,
   "metadata": {},
   "outputs": [],
   "source": [
    "import matplotlib.pyplot as plt\n",
    "import numpy as np\n",
    "\n",
    "N = np.arange(0, EPOCHS)\n",
    "plt.style.use(\"ggplot\")\n",
    "plt.figure(figsize=(16,10))\n",
    "plt.plot(N, H.history[\"loss\"], label=\"Training Loss\")\n",
    "plt.plot(N, H.history[\"val_loss\"], label=\"Validation Loss\")\n",
    "plt.plot(N, H.history[\"acc\"], label=\"Training Accuracy\")\n",
    "plt.plot(N, H.history[\"val_acc\"], label=\"Validation Accuracy\")\n",
    "plt.title(\"Training Loss and Accuracy\")\n",
    "plt.xlabel(\"Epoch\")\n",
    "plt.ylabel(\"Loss / Accuracy\")\n",
    "plt.legend()\n",
    "plt.show()"
   ]
  },
  {
   "cell_type": "code",
   "execution_count": null,
   "metadata": {},
   "outputs": [],
   "source": [
    "loss, accuracy = model.evaluate_generator(\n",
    "    validation_generator,\n",
    "    steps=validation_generator.samples / validation_generator.batch_size\n",
    ")\n",
    "\n",
    "print(f\"Loss = {loss:0.5f}, Accuracy = {accuracy*100:0.2f}%\")"
   ]
  },
  {
   "cell_type": "markdown",
   "metadata": {},
   "source": [
    "## Notes\n",
    "\n",
    "### Possible Improvements\n",
    "\n",
    "- Try without augmentation, or with less\n",
    "- Try with fewer layers\n",
    "- Compensate for differing class sizes\n",
    "\n",
    "### Results\n",
    "\n",
    "| Accuracy | Loss | Epochs | Optimiser | Image Dimensions | LR | Layers | Other |\n",
    "|----------|------|:------:|:---------:|:----------------:|----|:-------|:------|\n",
    "| 71.63%   | 3.1745 | 5    | RMSprop   | 224x224          | 0.0001 | 1024=>1024=>512 | Training accuracy climbed steadily to 98.19%, but validation accuracy decreased from 79% to 71% \n"
   ]
  },
  {
   "cell_type": "code",
   "execution_count": null,
   "metadata": {},
   "outputs": [],
   "source": []
  }
 ],
 "metadata": {
  "kernelspec": {
   "display_name": "Python 3",
   "language": "python",
   "name": "python3"
  },
  "language_info": {
   "codemirror_mode": {
    "name": "ipython",
    "version": 3
   },
   "file_extension": ".py",
   "mimetype": "text/x-python",
   "name": "python",
   "nbconvert_exporter": "python",
   "pygments_lexer": "ipython3",
   "version": "3.6.8"
  }
 },
 "nbformat": 4,
 "nbformat_minor": 2
}
